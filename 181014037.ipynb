{
 "cells": [
  {
   "cell_type": "markdown",
   "metadata": {},
   "source": [
    "# Q-1-Q-11"
   ]
  },
  {
   "cell_type": "markdown",
   "metadata": {},
   "source": [
    "# Write a program that uses a while loop (not a for loop) to read through a string and print the characters of the string one-by-one on separate lines."
   ]
  },
  {
   "cell_type": "code",
   "execution_count": 1,
   "metadata": {},
   "outputs": [
    {
     "name": "stdout",
     "output_type": "stream",
     "text": [
      "Enter a string: I love python\n",
      "I\n",
      " \n",
      "l\n",
      "o\n",
      "v\n",
      "e\n",
      " \n",
      "p\n",
      "y\n",
      "t\n",
      "h\n",
      "o\n",
      "n\n"
     ]
    }
   ],
   "source": [
    "def main():\n",
    "    string = input('Enter a string: ')\n",
    "    i = 0\n",
    "    while i < len(string):\n",
    "        print (string[i])\n",
    "        i+=1\n",
    "main()"
   ]
  },
  {
   "cell_type": "markdown",
   "metadata": {},
   "source": [
    "# Modify the program above to print out every second character of the string."
   ]
  },
  {
   "cell_type": "code",
   "execution_count": 2,
   "metadata": {},
   "outputs": [
    {
     "name": "stdout",
     "output_type": "stream",
     "text": [
      "Enter a string: I love Python\n",
      " \n",
      "o\n",
      "y\n"
     ]
    }
   ],
   "source": [
    "def main():\n",
    "    string = input('Enter a string: ')\n",
    "    print (string[1])\n",
    "    for i in range(0,len(string)):\n",
    "            if string[i].isspace() or string[i] == '.':\n",
    "                print (string[i+2])\n",
    "main()"
   ]
  },
  {
   "cell_type": "markdown",
   "metadata": {},
   "source": [
    "# Write a program that asks the user to enter a password. If the user enters the right password, the program should tell them they are logged in to the system. Otherwise, the program should ask them to reenter the password. The user should only get five tries to enter the password, after which point the program should tell them that they are kicked off of the system."
   ]
  },
  {
   "cell_type": "code",
   "execution_count": 3,
   "metadata": {},
   "outputs": [
    {
     "name": "stdout",
     "output_type": "stream",
     "text": [
      " Enter the password to login 123\n",
      "Wrong password. Try again \n",
      " Enter the password to login 123456\n",
      "You are logged in\n"
     ]
    }
   ],
   "source": [
    "def main():\n",
    "    password = '123456'\n",
    "    i = 0\n",
    "    while i < 5:\n",
    "        pword = input(' Enter the password to login ')\n",
    "        if pword == password:\n",
    "            print ('You are logged in')\n",
    "            i = 7\n",
    "            break\n",
    "        print ('Wrong password. Try again ')\n",
    "        i+=1\n",
    "    if i == 5:\n",
    "        print ('You can not login the program')\n",
    "main()"
   ]
  },
  {
   "cell_type": "markdown",
   "metadata": {},
   "source": [
    "# Recall that, given a string s , s.index( ' x ' ) returns the index of the first x in s and an error if there is no x.\n",
    "(a) Write a program that asks the user for a string and a letter. Using a while loop, the program should print the index of the first occurrence of that letter and a message if the string does not contain the letter.\n",
    "\n",
    "(b) Write the above program using a for/break loop instead of a while loop."
   ]
  },
  {
   "cell_type": "code",
   "execution_count": 4,
   "metadata": {},
   "outputs": [
    {
     "name": "stdout",
     "output_type": "stream",
     "text": [
      "Enter a string Python\n",
      "Enter a letter n\n",
      "Index is  6\n"
     ]
    }
   ],
   "source": [
    "def main():\n",
    "    i = 0\n",
    "    p = 2\n",
    "    s = input ('Enter a string ')\n",
    "    l = input ('Enter a letter ')\n",
    "    s = s.lower()\n",
    "    l = l.lower()\n",
    "    while p != 0:\n",
    "        if l in s:\n",
    "            print ('Index is ',s.index(l)+1)\n",
    "            p = 1\n",
    "            break\n",
    "        p = 0\n",
    "    if p == 0:\n",
    "        print (l, ' is not found')\n",
    "main()"
   ]
  },
  {
   "cell_type": "markdown",
   "metadata": {},
   "source": [
    "# (b)"
   ]
  },
  {
   "cell_type": "code",
   "execution_count": 5,
   "metadata": {},
   "outputs": [
    {
     "name": "stdout",
     "output_type": "stream",
     "text": [
      "Enter a string Python\n",
      "Enter a letter n\n",
      "Index is  6\n"
     ]
    }
   ],
   "source": [
    "def main():\n",
    "    i = 1\n",
    "    p = 1\n",
    "    s = input ('Enter a string ')\n",
    "    l = input ('Enter a letter ')\n",
    "    s = s.lower()\n",
    "    l = l.lower()\n",
    "    for ch in s:\n",
    "        if ch == l:\n",
    "            print ('Index is ',i)\n",
    "            p = 0\n",
    "            break\n",
    "        i+=1\n",
    "    if p == 1:\n",
    "        print (l, ' is not found')\n",
    "main()"
   ]
  },
  {
   "cell_type": "markdown",
   "metadata": {},
   "source": [
    "# The GCD (greatest common divisor) of two numbers is the largest number that both are di- visible by. For instance, gcd (18, 42) is 6 because the largest number that both 18 and 42 are divisible by is 6. Write a program that asks the user for two numbers and computes their gcd. Shown below is a way to compute the GCD, called Euclid’s Algorithm.\n",
    "• First compute the remainder of dividing the larger number by the smaller number\n",
    "\n",
    "• Next, replace the larger number with the smaller number and the smaller number with the remainder.\n",
    "\n",
    "• Repeat this process until the smaller number is 0. The GCD is the last value of the larger number."
   ]
  },
  {
   "cell_type": "code",
   "execution_count": 6,
   "metadata": {},
   "outputs": [
    {
     "name": "stdout",
     "output_type": "stream",
     "text": [
      "Enter a number 42\n",
      "Enter another number 18\n",
      "GCD is:  6\n"
     ]
    }
   ],
   "source": [
    "def main():\n",
    "    a = input('Enter a number ')\n",
    "    b = input ('Enter another number ')\n",
    "    if a > b :\n",
    "        (lar,sml) = (a,b)\n",
    "    else:\n",
    "        (lar,sml) = (b,a)\n",
    "    while sml != 0:\n",
    "        (lar,sml) = (sml,int(lar) % int(sml))\n",
    "    print ('GCD is: ',lar)\n",
    "main()"
   ]
  },
  {
   "cell_type": "markdown",
   "metadata": {},
   "source": [
    "# A 4000-year old method to compute the square root of 5 is as follows: Start with an initial guess, say 1. Then compute\n",
    "(1 + 5/1 )/2 = 3\n",
    "\n",
    "Next, take that 3 and replace the 1’s in the previous formula with 3’s . This gives\n",
    "\n",
    "(3 + 5/3 )/2 = 7/3 = 2.33\n",
    "\n",
    "Next replace the 3 in the previous formula with 7/3 . This gives\n",
    "\n",
    "(7/3 + 5/(7/3) )/2 = 47/22 = 2.24\n",
    "\n",
    "If you keep doing this process of computing the formula, getting a result, and plugging it back in, the values will eventually get closer and closer to 5 . This method works for numbers other than 5. Write a program that asks the user for a number and uses this method to estimate the square root of the number correct to within 10^( −10) . The estimate will be correct to within 10^( −10) when the absolute value of the difference between consecutive values is less than 10^(−10) ."
   ]
  },
  {
   "cell_type": "code",
   "execution_count": 7,
   "metadata": {},
   "outputs": [
    {
     "name": "stdout",
     "output_type": "stream",
     "text": [
      "Enter a number 5\n",
      "Square root is:  5.217587818302916\n"
     ]
    }
   ],
   "source": [
    "def main():\n",
    "    num = input('Enter a number ')\n",
    "    num = float(num)\n",
    "    error = 10.00\n",
    "    error1 = 10 ** -10\n",
    "    ig = 1\n",
    "    while error >= error1:\n",
    "        result = (ig + (float(num)/float(ig)))\n",
    "        result1 = float(result)/2\n",
    "        error = (num - result1)\n",
    "        ig = result\n",
    "    print ('Square root is: ' , result1)\n",
    "main()"
   ]
  },
  {
   "cell_type": "markdown",
   "metadata": {},
   "source": [
    "# Write a program that starts with an 5 × 5 list of zeroes and randomly changes exactly ten of those zeroes to ones."
   ]
  },
  {
   "cell_type": "code",
   "execution_count": 11,
   "metadata": {},
   "outputs": [
    {
     "name": "stdout",
     "output_type": "stream",
     "text": [
      "0 1 0 0 0 \n",
      "1 0 0 0 0 \n",
      "0 0 0 0 0 \n",
      "0 0 0 0 1 \n",
      "0 0 0 1 0 \n"
     ]
    }
   ],
   "source": [
    "import random\n",
    "myList = []\n",
    "randomPosition = []\n",
    "for i in range(25):\n",
    "    myList.append(0)\n",
    "\n",
    "for i in range(10):\n",
    "    x = random.randrange(1, 25)\n",
    "    while randomPosition.count(x) != 0:\n",
    "        x = random.randrange(1, 25)\n",
    "    randomPosition.append(x)\n",
    "    myList[x] = 1\n",
    "k = 0\n",
    "for i in range (5):\n",
    "    for j in range(5):\n",
    "        if i+j == randomPosition[k]:\n",
    "            print(myList[k], end=\" \")\n",
    "            k+=1\n",
    "            continue\n",
    "        print(myList[i+j], end=\" \")\n",
    "    print()"
   ]
  },
  {
   "cell_type": "markdown",
   "metadata": {},
   "source": [
    "# Write a program in which you have a list that contains seven integers that can be 0 or 1. Find the first nonzero entry in the list and change it to a 1. If there are no nonzero entries, print a message saying so."
   ]
  },
  {
   "cell_type": "code",
   "execution_count": 12,
   "metadata": {},
   "outputs": [
    {
     "name": "stdout",
     "output_type": "stream",
     "text": [
      "[9, 10, 5, 10, 4, 1, 8]\n",
      "First nonzero element is  9  in index  1\n",
      "After replace the list  [1, 10, 5, 10, 4, 1, 8]\n"
     ]
    }
   ],
   "source": [
    "import random\n",
    "def main():\n",
    "    list = []\n",
    "    i = 0\n",
    "    n = 0\n",
    "    for i in range (0,7):\n",
    "        x = random.randint(0,10)\n",
    "        list.append(x)\n",
    "    print (list)\n",
    "    for i in range (0,7):\n",
    "        if list[i] > 0:\n",
    "            print ('First nonzero element is ',list[i], ' in index ',i+1)\n",
    "            list[i] = 1\n",
    "            n = 1\n",
    "            print ('After replace the list ',list)\n",
    "            break\n",
    "    if n == 0:\n",
    "        print ('There is no non zero entries')\n",
    "main()"
   ]
  },
  {
   "cell_type": "markdown",
   "metadata": {},
   "source": [
    "# Write a program to play the following simple game. The player starts with 100.𝑂𝑛𝑒𝑎𝑐ℎ𝑡𝑢𝑟𝑛𝑎𝑐𝑜𝑖𝑛𝑖𝑠𝑓𝑙𝑖𝑝𝑝𝑒𝑑𝑎𝑛𝑑𝑡ℎ𝑒𝑝𝑙𝑎𝑦𝑒𝑟ℎ𝑎𝑠𝑡𝑜𝑔𝑢𝑒𝑠𝑠ℎ𝑒𝑎𝑑𝑠𝑜𝑟𝑡𝑎𝑖𝑙𝑠.𝑇ℎ𝑒𝑝𝑙𝑎𝑦𝑒𝑟𝑤𝑖𝑛𝑠 9 for each correct guess and loses 10𝑓𝑜𝑟𝑒𝑎𝑐ℎ𝑖𝑛𝑐𝑜𝑟𝑟𝑒𝑐𝑡𝑔𝑢𝑒𝑠𝑠.𝑇ℎ𝑒𝑔𝑎𝑚𝑒𝑒𝑛𝑑𝑠𝑒𝑖𝑡ℎ𝑒𝑟𝑤ℎ𝑒𝑛𝑡ℎ𝑒𝑝𝑙𝑎𝑦𝑒𝑟𝑟𝑢𝑛𝑠𝑜𝑢𝑡𝑜𝑓𝑚𝑜𝑛𝑒𝑦𝑜𝑟𝑔𝑒𝑡𝑠𝑡𝑜 200."
   ]
  },
  {
   "cell_type": "code",
   "execution_count": 13,
   "metadata": {},
   "outputs": [
    {
     "name": "stdout",
     "output_type": "stream",
     "text": [
      "Starts with $25 and wins when $50\n",
      "write \"H\" for head or \"T\" for tail H\n",
      "Right Guess!!! New Balance 34\n",
      "write \"H\" for head or \"T\" for tail T\n",
      "Wrong Guess... New Balance 24\n",
      "write \"H\" for head or \"T\" for tail H\n",
      "Right Guess!!! New Balance 33\n",
      "write \"H\" for head or \"T\" for tail T\n",
      "Wrong Guess... New Balance 23\n",
      "write \"H\" for head or \"T\" for tail T\n",
      "Right Guess!!! New Balance 32\n",
      "write \"H\" for head or \"T\" for tail H\n",
      "Wrong Guess... New Balance 22\n",
      "write \"H\" for head or \"T\" for tail H\n",
      "Right Guess!!! New Balance 31\n",
      "write \"H\" for head or \"T\" for tail H\n",
      "Right Guess!!! New Balance 40\n",
      "write \"H\" for head or \"T\" for tail T\n",
      "Right Guess!!! New Balance 49\n",
      "write \"H\" for head or \"T\" for tail H\n",
      "Right Guess!!! New Balance 58\n",
      "Congrats!!!\n"
     ]
    }
   ],
   "source": [
    "balance=25  #100\n",
    "\n",
    "def Guess(ans,my_balance):\n",
    "    import random\n",
    "    z=random.randint(0,1)\n",
    "    if ans==z:\n",
    "        my_balance=my_balance+9\n",
    "        print('Right Guess!!! New Balance',my_balance)\n",
    "    else:\n",
    "        my_balance=my_balance-10\n",
    "        print('Wrong Guess... New Balance',my_balance)\n",
    "    return my_balance\n",
    "\n",
    "print('Starts with $25 and wins when $50')\n",
    "while balance>0 and balance<50:  #balance<200\n",
    "    s=input('write \"H\" for head or \"T\" for tail ')\n",
    "    if s=='H':\n",
    "        check=Guess(0,balance)  # 0 for head\n",
    "    elif s=='T':\n",
    "        check=Guess(1,balance)  # 1 for tail\n",
    "    balance=check\n",
    "\n",
    "if balance>=50:          #200\n",
    "    print('Congrats!!!')\n",
    "else:\n",
    "    print('Better Luck Next time...')"
   ]
  },
  {
   "cell_type": "markdown",
   "metadata": {},
   "source": [
    "# Randomly generate a 6 × 6 list that has exactly 12 ones placed in random locations in the list. The rest of the entries should be zeroes."
   ]
  },
  {
   "cell_type": "code",
   "execution_count": 14,
   "metadata": {},
   "outputs": [
    {
     "name": "stdout",
     "output_type": "stream",
     "text": [
      "[[1 0 0 0 0 0]\n",
      " [1 0 0 0 0 1]\n",
      " [1 0 0 1 0 1]\n",
      " [0 1 1 0 1 1]\n",
      " [0 1 0 0 1 0]\n",
      " [0 0 0 0 0 0]]\n"
     ]
    }
   ],
   "source": [
    "import numpy as np\n",
    "import random\n",
    "def main():\n",
    "    i = 0\n",
    "    j = 0\n",
    "    count = 0\n",
    "    list = np.random.choice([0, 1], p=[0.7, 0.3], size=(6, 6))\n",
    "    while count != -1:\n",
    "        list = np.random.choice([0, 1], p=[0.7, 0.3], size=(6, 6))\n",
    "        count = 0\n",
    "        for i in range(0,6):\n",
    "            for j in range (0,6):\n",
    "                if list [i][j] == 1:\n",
    "                    count += 1\n",
    "        if count == 12:\n",
    "            break\n",
    "    print (list)\n",
    "main()"
   ]
  },
  {
   "cell_type": "markdown",
   "metadata": {},
   "source": [
    "# Randomly generate a 9 × 9 list where the entries are integers between 1 and 9 with no repeat entries in any row or in any column."
   ]
  },
  {
   "cell_type": "code",
   "execution_count": 15,
   "metadata": {},
   "outputs": [
    {
     "name": "stdout",
     "output_type": "stream",
     "text": [
      "9 2 8 3 4 5 1 6 7 \n",
      "2 7 4 6 8 1 3 9 5 \n",
      "7 8 6 3 2 9 1 4 5 \n",
      "3 2 4 5 7 6 1 9 8 \n",
      "1 9 8 4 5 6 7 3 2 \n",
      "4 8 2 9 3 7 6 5 1 \n",
      "1 7 9 4 2 8 6 3 5 \n",
      "7 2 4 6 3 1 9 8 5 \n",
      "4 8 7 9 2 6 5 3 1 \n"
     ]
    }
   ],
   "source": [
    "import random\n",
    "positions = []\n",
    "for x in range(9):\n",
    "    for y in range(9):\n",
    "        f = random.randrange(9)+1\n",
    "        while positions.count(f)!=0:\n",
    "            f = random.randrange(9)+1\n",
    "        positions.append(f)\n",
    "        print(f, end=\" \")\n",
    "    positions.clear()\n",
    "    print()"
   ]
  },
  {
   "cell_type": "markdown",
   "metadata": {},
   "source": [
    "# Q-1 - Q-8"
   ]
  },
  {
   "cell_type": "markdown",
   "metadata": {},
   "source": [
    "# Write a program that repeatedly asks the user to enter product names and prices. Store all of these in a dictionary whose keys are the product names and whose values are the prices. When the user is done entering products and prices, allow them to repeatedly enter a product name and print the corresponding price or a message if the product is not in the dictionary."
   ]
  },
  {
   "cell_type": "code",
   "execution_count": 16,
   "metadata": {},
   "outputs": [
    {
     "name": "stdout",
     "output_type": "stream",
     "text": [
      "Enter Product Name: cake\n",
      "Enter Product Prize: 250\n",
      "Press \"Y\" to add more OR \"N\" to finish: Y\n",
      "Enter Product Name: chocolate\n",
      "Enter Product Prize: 150\n",
      "Press \"Y\" to add more OR \"N\" to finish: N\n",
      "Enter Product Name: water\n",
      "water is not in the Dictionary\n",
      "Press \"Y\" to search again OR \"N\" to finish: N\n"
     ]
    }
   ],
   "source": [
    "ch=\"Y\"\n",
    "dic={}\n",
    "\n",
    "while ch=='Y':\n",
    "    p_n=input('Enter Product Name: ')\n",
    "    p_pr=input('Enter Product Prize: ')\n",
    "    dic[p_n]=p_pr\n",
    "    ch=input('Press \"Y\" to add more OR \"N\" to finish: ')\n",
    "\n",
    "ch=\"Y\"\n",
    "while ch==\"Y\":\n",
    "    a=input('Enter Product Name: ')\n",
    "    if a in dic:\n",
    "        print('Price of',a,'is:',dic[a])\n",
    "    else:\n",
    "        print(a,'is not in the Dictionary')\n",
    "    ch=input('Press \"Y\" to search again OR \"N\" to finish: ')"
   ]
  },
  {
   "cell_type": "markdown",
   "metadata": {},
   "source": [
    "# Using the dictionary created in the previous problem, allow the user to enter a dollar amount and print out all the products whose price is less than that amount."
   ]
  },
  {
   "cell_type": "code",
   "execution_count": 17,
   "metadata": {},
   "outputs": [
    {
     "name": "stdout",
     "output_type": "stream",
     "text": [
      "Enter Product Name: water\n",
      "Enter Product Prize: 15\n",
      "Press \"Y\" to add more OR \"N\" to finish: Y\n",
      "Enter Product Name: cake\n",
      "Enter Product Prize: 250\n",
      "Press \"Y\" to add more OR \"N\" to finish: N\n",
      "Enter a Doller amount: 50\n",
      "water : 15\n"
     ]
    }
   ],
   "source": [
    "ch=\"Y\"\n",
    "dic={}\n",
    "\n",
    "while ch=='Y':\n",
    "    p_n=input('Enter Product Name: ')\n",
    "    p_pr=input('Enter Product Prize: ')\n",
    "    dic[p_n]=p_pr\n",
    "    ch=input('Press \"Y\" to add more OR \"N\" to finish: ')\n",
    "\n",
    "n=input('Enter a Doller amount: ')\n",
    "n=int(n)  #string to int\n",
    "c=0  #to check if required product exists\n",
    "\n",
    "for p in dic:\n",
    "    if int(dic[p])<n:  #type casting as the dictionary value is string\n",
    "        print(p,':',dic[p])\n",
    "        c=c+1\n",
    "if c==0:\n",
    "    print('No product exists in the Dictionary Price less than',n)"
   ]
  },
  {
   "cell_type": "markdown",
   "metadata": {},
   "source": [
    "# Write a program that uses a dictionary that contains ten user names and passwords. The program should ask the user to enter their username and password. If the username is not in the dictionary, the program should indicate that the person is not a valid user of the system. If the username is in the dictionary, but the user does not enter the right password, the program should say that the password is invalid. If the password is correct, then the program should tell the user that they are now logged in to the system."
   ]
  },
  {
   "cell_type": "code",
   "execution_count": 18,
   "metadata": {},
   "outputs": [
    {
     "name": "stdout",
     "output_type": "stream",
     "text": [
      "Enter User Name: Rahim\n",
      "Enter Password: 1234\n",
      "You are Not a valid User...\n"
     ]
    }
   ],
   "source": [
    "dic={'Aisha':1234560, 'Miraz': 13156910, 'Ovi': 11420119113, \n",
    "     'Neha': 811414919, 'Hridy': 818941525, 'Raba': 291821, 'Sazidul': 315896, \n",
    "     'Iqra': 1821139, 'Saeid': 17201407, 'Promi': 201514}\n",
    "\n",
    "u_n=input('Enter User Name: ')\n",
    "p_w=input('Enter Password: ')\n",
    "p_w=int(p_w)\n",
    "               # string comparison isn't working.   have to type cast in int\n",
    "if u_n in dic:\n",
    "    if int(dic[u_n])==p_w:\n",
    "        print('Login Successfull !!!')\n",
    "    else:\n",
    "        print('Invalid Password...')\n",
    "else:\n",
    "    print('You are Not a valid User...')"
   ]
  },
  {
   "cell_type": "markdown",
   "metadata": {},
   "source": [
    "# Using the card dictionary from earlier in this chapter, create a simple card game that deals two players three cards each. The player with the highest card wins. If there is a tie, then compare the second highest card and, if necessary, the third highest. If all three cards have the same value, then the game is a draw."
   ]
  },
  {
   "cell_type": "code",
   "execution_count": 19,
   "metadata": {},
   "outputs": [
    {
     "name": "stdout",
     "output_type": "stream",
     "text": [
      "Player One:\n",
      "{' value ': 10, ' suit ': ' clubs '}\n",
      "{' value ': 13, ' suit ': ' diamonds '}\n",
      "{' value ': 12, ' suit ': ' spades '}\n",
      "[10, 13, 12]\n",
      "\n",
      "Player Two:\n",
      "{' value ': 3, ' suit ': ' hearts '}\n",
      "{' value ': 2, ' suit ': ' clubs '}\n",
      "{' value ': 8, ' suit ': ' hearts '}\n",
      "[3, 2, 8]\n",
      "\n",
      "Highest Value of Player One  13\n",
      "\n",
      "Higest Value of Player Two:  8\n",
      "\n",
      "Player One won\n",
      "\n"
     ]
    }
   ],
   "source": [
    "import random\n",
    "import operator\n",
    "deck = [{ ' value ' :i, ' suit ' :c}\n",
    "for c in [ ' spades ' , ' clubs ' , ' hearts ' , ' diamonds ' ]\n",
    "for i in range(2,15)]\n",
    "deck1 = {}\n",
    "deck2 = {}\n",
    "arr1 = [None]*3\n",
    "arr2 = [None]*3\n",
    "\n",
    "random.shuffle(deck)\n",
    "#for player one\n",
    "print(\"Player One:\")\n",
    "for i in range(0,3):\n",
    "    deck1 = deck[i]\n",
    "    print(deck[i])\n",
    "    x = max(deck1)\n",
    "    arr1[i] = deck1[x]\n",
    "\n",
    "print(arr1)    \n",
    "print(\"\\nPlayer Two:\")\n",
    "#for player two\n",
    "\n",
    "random.shuffle(deck)\n",
    "for i in range(0,3):\n",
    "    deck2 = deck[i]\n",
    "    print(deck[i])\n",
    "    y = max(deck2)\n",
    "    arr2[i] = deck2[y]\n",
    "    \n",
    "print(arr2)\n",
    "\n",
    "firstMax = max(arr1)\n",
    "seccondMax = max(arr2)\n",
    "print(\"\\nHighest Value of Player One \",firstMax)\n",
    "print(\"\\nHigest Value of Player Two: \",seccondMax)\n",
    "if(firstMax==seccondMax):\n",
    "    print(\"\\nGame Tie\\n\")\n",
    "elif(firstMax>seccondMax):\n",
    "    print(\"\\nPlayer One won\\n\")\n",
    "elif(seccondMax>firstMax):\n",
    "    print(\"\\nPlayer Two Won\\n\")"
   ]
  },
  {
   "cell_type": "markdown",
   "metadata": {},
   "source": [
    "# Using the card dictionary from earlier in the chapter, deal out three cards. Determine the following: (a) If the three cards form a flush (all of the same suit) (b) If there is a three-of-a-kind (all of the same value) (c) If there is a pair, but not three-of-a-kind (d) If the three cards form a straight (all in a row, like (2, 3, 4) or (10, Jack, Queen))"
   ]
  },
  {
   "cell_type": "code",
   "execution_count": 20,
   "metadata": {},
   "outputs": [
    {
     "name": "stdout",
     "output_type": "stream",
     "text": [
      "Cards: \n",
      "diamonds : 12\n",
      "diamonds : 10\n",
      "hearts : 14\n",
      "High Card : 14\n"
     ]
    }
   ],
   "source": [
    "deck = [{ 'value': i, 'suit': c}\n",
    "for c in [ 'spades' , 'clubs', 'hearts', 'diamonds']\n",
    "for i in range(2,15)]\n",
    "\n",
    "random.shuffle(deck)   # to shuffle the cards\n",
    "p_1=[0]*3              # value '2' of clubs\n",
    "p_2=['s']*3            # suit 2 of \"clubs\"\n",
    "\n",
    "check=0\n",
    "print('Cards: ')\n",
    "while check<3:\n",
    "    print(deck[check]['suit'],':',deck[check]['value'])\n",
    "    p_1[check]=int(deck[check]['value'])\n",
    "    p_2[check]=deck[check]['suit']\n",
    "    check=check+1\n",
    "\n",
    "\n",
    "p_1=sorted(p_1, reverse=True)  # 10, 9, 7\n",
    "    \n",
    "if p_1[0]==p_1[1]==p_1[2]:\n",
    "    print('Three of A Kind')\n",
    "elif p_2[0]==p_2[1]==p_2[2]:\n",
    "    if p_1[0]==p_1[1]+1 and p_1[0]==p_1[2]+2:\n",
    "        print('Straight Flush')\n",
    "    else:\n",
    "        print('Flush')\n",
    "elif p_1[0]==p_1[1] or p_1[0]==p_1[2] or p_1[2]==p_1[1]:\n",
    "    print('Pair')\n",
    "elif p_1[0]==p_1[1]+1 and p_1[0]==p_1[2]+2:\n",
    "        print('Straight')\n",
    "else:\n",
    "    print('High Card :',p_1[0])"
   ]
  },
  {
   "cell_type": "markdown",
   "metadata": {},
   "source": [
    "# Below are the notes used in music: C C# D D# E F F# G G# A A# B The notes for the C major chord are C, E, G. A mathematical way to get this is that E is 4 steps past C and G is 7 steps past C. This works for any base. For example, the notes for D major are D, F#, A. We can represent the major chord steps as a list with two elements: [4,7] . The corresponding lists for some other chord types are shown below: Minor [3,7]\n",
    "Augmented fifth [4,8]\n",
    "\n",
    "Minor fifth [4,6]\n",
    "\n",
    "Major sixth [4,7,9]\n",
    "\n",
    "Minor sixth [3,7,9]\n",
    "\n",
    "Dominant seventh [4,7,10]\n",
    "\n",
    "Minor seventh [3,7,10]\n",
    "\n",
    "Major seventh [4,7,11]\n",
    "\n",
    "Diminished seventh [3,6,10]\n",
    "\n",
    "Write a program that asks the user for the key and the chord type and prints out the notes of the chord. Use a dictionary whose keys are the (musical) keys and whose values are the lists of steps."
   ]
  },
  {
   "cell_type": "code",
   "execution_count": 23,
   "metadata": {},
   "outputs": [
    {
     "name": "stdout",
     "output_type": "stream",
     "text": [
      "Cord types are : Minor, Augmented fifth, Minor fifth, Major sixth, Minor sixth\n",
      " \t\tDominant seventh, Minor seventh, Major seventh, Diminished seventh\n",
      "Enter Key: D\n",
      "Enter Cord Type: Minor\n",
      "D F A\n"
     ]
    }
   ],
   "source": [
    "my_note=['C', 'C#', 'D', 'D#', 'E', 'F', 'F#', 'G', 'G#', 'A', 'A#', 'B']\n",
    "\n",
    "print('Cord types are : Minor, Augmented fifth, Minor fifth, Major sixth, Minor sixth\\n \\t\\tDominant seventh, Minor seventh, Major seventh, Diminished seventh')\n",
    "key=input('Enter Key: ')\n",
    "cord_type=input('Enter Cord Type: ')\n",
    "\n",
    "i=0\n",
    "while i<12:\n",
    "    if my_note[i]==key:\n",
    "        break\n",
    "    i=i+1\n",
    "\n",
    "if cord_type=='Minor':\n",
    "    print(my_note[i],my_note[i+3],my_note[(i+7)%11])\n",
    "elif cord_type=='Augmented fifth':\n",
    "    print(my_note[i],my_note[i+4],my_note[(i+8)%11])\n",
    "elif cord_type=='Minor fifth':\n",
    "    print(my_note[i],my_note[i+4],my_note[(i+6)%11])\n",
    "elif cord_type=='Major sixth':\n",
    "    print(my_note[i],my_note[i+4],my_note[(i+7)%11], my_note[(i+9)%11])\n",
    "elif cord_type=='Dominant seventh':\n",
    "    print(my_note[i],my_note[i+4],my_note[(i+7)%11], my_note[(i+10)%11])\n",
    "elif cord_type=='Minor seventh':\n",
    "    print(my_note[i],my_note[i+3],my_note[(i+7)%11], my_note[(i+10)%11])\n",
    "elif cord_type=='Major seventh':\n",
    "    print(my_note[i],my_note[i+4],my_note[(i+7)%11],my_note[(i+11)%11])\n",
    "elif cord_type=='Diminished seventh':\n",
    "    print(my_note[i],my_note[i+3],my_note[(i+6)%11], my_note[(i+10)%11])\n",
    "elif cord_type=='Minor sixth':\n",
    "    print(my_note[i],my_note[i+3],my_note[(i+7)%11], my_note[(i+9)%11])"
   ]
  },
  {
   "cell_type": "markdown",
   "metadata": {},
   "source": [
    "# Suppose you are given the following list of strings: L = [ ' aabaabac ' , ' cabaabca ' , ' aaabbcba ' , ' aabacbab ' , ' acababba ' ]\n",
    "Patterns like this show up in many places, including DNA sequencing. The user has a string of their own with only some letters filled in and the rest as asterisks. An example is aa** . The user would like to know which of the strings in the list fit with their pattern. In the example just given, the matching strings are the first and fourth. One way to solve this problem is to create a dictionary whose keys are the indices in the user’s string of the non-asterisk characters and whose values are those characters. Write a program implementing this approach (or some other approach) to find the strings that match a user-entered string."
   ]
  },
  {
   "cell_type": "code",
   "execution_count": null,
   "metadata": {},
   "outputs": [],
   "source": [
    "L = [ 'aabaabac' , 'cabaabca' , 'aaabbcba' , 'aabacbab' , 'acababba' ] \n",
    "\n",
    "s=input(\"Enter string with one * :\")\n",
    "\n",
    "i=0\n",
    "check=0\n",
    "while i<5:\n",
    "    check=0\n",
    "    m=0\n",
    "    if s[m]==L[i][m]:\n",
    "        check=1\n",
    "        m=m+1\n",
    "        while m<len(s)-1 and check==1:\n",
    "            if s[m]!=L[i][m]:\n",
    "                check=0\n",
    "        m=m+1\n",
    "    if check==1:\n",
    "        print(L[i])\n",
    "    i=i+1\n",
    "\n",
    "if check==0:\n",
    "    print('No Match')"
   ]
  },
  {
   "cell_type": "markdown",
   "metadata": {},
   "source": [
    "# Dictionaries provide a convenient way to store structured data. Here is an example dictionary: d=[{ ' name ' : ' Todd ' , ' phone ' : ' 555-1414 ' , ' email ' : ' todd@mail.net ' }, { ' name ' : ' Helga ' , ' phone ' : ' 555-1618 ' , ' email ' : ' helga@mail.net ' }, { ' name ' : ' Princess ' , ' phone ' : ' 555-3141 ' , ' email ' : '' }, { ' name ' : ' LJ ' , ' phone ' : ' 555-2718 ' , ' email ' : ' lj@mail.net ' }]\n",
    "Write a program that reads through any dictionary like this and prints the following:\n",
    "\n",
    "(a) All the users whose phone number ends in an 8\n",
    "\n",
    "(b) All the users that don’t have an email address listed"
   ]
  },
  {
   "cell_type": "code",
   "execution_count": null,
   "metadata": {},
   "outputs": [],
   "source": [
    "d=[{ ' name ' : ' Todd ' , ' phone ' : ' 555-1414 ' , ' email ' : ' todd@mail.net ' }, \n",
    "   { ' name ' : ' Helga ' , ' phone ' : ' 555-1618 ' , ' email ' : ' helga@mail.net ' }, \n",
    "   { ' name ' : ' Princess ' , ' phone ' : ' 555-3141 ' , ' email ' : '' }, \n",
    "   { ' name ' : ' LJ ' , ' phone ' : ' 555-2718 ' , ' email ' : ' lj@mail.net ' }]\n",
    "#print(d[2][' email '])\n",
    "#a=''\n",
    "#print(len(a))\n",
    "\n",
    "print('All the users whose phone number ends in an 8')\n",
    "i=0\n",
    "for a in d:\n",
    "    n=d[i][' phone ']\n",
    "    if n[-2]=='8':\n",
    "        print(d[i])\n",
    "    i=i+1\n",
    "\n",
    "print('\\nAll the users that don’t have an email address listed')\n",
    "i=0\n",
    "for a in d:\n",
    "    n=d[i][' email ']\n",
    "    if len(n)==0:\n",
    "        print(d[i])\n",
    "    i=i+1"
   ]
  }
 ],
 "metadata": {
  "kernelspec": {
   "display_name": "Python 3",
   "language": "python",
   "name": "python3"
  },
  "language_info": {
   "codemirror_mode": {
    "name": "ipython",
    "version": 3
   },
   "file_extension": ".py",
   "mimetype": "text/x-python",
   "name": "python",
   "nbconvert_exporter": "python",
   "pygments_lexer": "ipython3",
   "version": "3.7.1"
  }
 },
 "nbformat": 4,
 "nbformat_minor": 2
}
